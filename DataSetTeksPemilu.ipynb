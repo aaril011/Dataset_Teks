{
  "nbformat": 4,
  "nbformat_minor": 0,
  "metadata": {
    "colab": {
      "provenance": []
    },
    "kernelspec": {
      "name": "python3",
      "display_name": "Python 3"
    },
    "language_info": {
      "name": "python"
    }
  },
  "cells": [
    {
      "cell_type": "code",
      "execution_count": null,
      "metadata": {
        "id": "ikwV5VI8TJr2"
      },
      "outputs": [],
      "source": [
        "import pandas as pd\n",
        "from sklearn.feature_extraction.text import TfidfVectorizer\n",
        "from gensim.models import Word2Vec\n",
        "import numpy as np\n",
        "from sklearn.model_selection import train_test_split\n",
        "from sklearn.neighbors import KNeighborsClassifier\n",
        "from sklearn.naive_bayes import MultinomialNB\n",
        "from sklearn.svm import SVC\n",
        "from sklearn.ensemble import RandomForestClassifier\n",
        "from sklearn.metrics import accuracy_score, classification_report\n",
        "import matplotlib.pyplot as plt\n",
        "from sklearn.feature_extraction.text import TfidfVectorizer\n",
        "from sklearn.decomposition import TruncatedSVD"
      ]
    },
    {
      "cell_type": "code",
      "source": [
        "# Kalimat dan label\n",
        "kalimat = [\n",
        "    \"Kandidat A memiliki visi yang kuat untuk masa depan negara.\",\n",
        "    \"Debat kandidat Pilpres 2024 sangat membangun dan informatif.\",\n",
        "    \"Saya tidak yakin dengan rencana ekonomi kandidat B.\",\n",
        "    \"Pemimpin yang bijak diperlukan dalam Pilpres 2024.\",\n",
        "    \"Pemilihan ini akan menentukan arah negara selama beberapa tahun ke depan.\",\n",
        "    \"Kandidat H memiliki program pendidikan yang kuat.\",\n",
        "    \"Saya tidak setuju dengan pendekatan kandidat I dalam masalah ekonomi.\",\n",
        "    \"Pilpres adalah hak demokratis setiap warga negara.\",\n",
        "    \"Debat kandidat Pilpres  harus lebih terfokus pada solusi.\",\n",
        "    \"Kandidat J memiliki pengalaman yang cukup dalam urusan luar negeri.\",\n",
        "    \"Saya prihatin dengan tingkat polarisasi politik menjelang Pilpres.\",\n",
        "    \"Kita perlu memastikan hak suara setiap warga terlindungi.\",\n",
        "    \"Saya berharap kandidat K dapat membawa perubahan positif.\",\n",
        "    \"Pemilihan umum adalah perayaan demokrasi.\",\n",
        "    \"Kampanye kotor harus dihindari dalam Pilpres 2024.\",\n",
        "    \"Kandidat L memiliki visi yang jelas untuk infrastruktur.\",\n",
        "    \"Penggunaan uang dalam politik adalah masalah serius.\",\n",
        "    \"Kita harus mendukung kandidat M yang berkomitmen untuk hak asasi manusia.\",\n",
        "    \"Pemilih harus memeriksa catatan kandidat sebelum memutuskan.\",\n",
        "    \"Saya khawatir dengan potensi gangguan eksternal dalam Pilpres.\",\n",
        "    \"Pemimpin yang adil diperlukan dalam masa transisi ini.\",\n",
        "    \"Partisipasi pemilih muda sangat penting.\",\n",
        "    \"Kita perlu menghindari penyebaran berita palsu selama Pilpres.\",\n",
        "    \"Kandidat N belum memberikan rencana ekonomi yang konkret.\",\n",
        "    \"Pilpres harus mencerminkan aspirasi seluruh rakyat.\",\n",
        "    \"Kandidat O memiliki pengalaman dalam mengelola krisis.\",\n",
        "    \"Pemilih harus mencari fakta sebelum membuat keputusan.\",\n",
        "    \"Pemimpin yang berintegritas sangat penting.\",\n",
        "    \"Debat kandidat harus mempertimbangkan masalah lingkungan.\",\n",
        "    \"Saya prihatin dengan tingkat retorika kosong dalam kampanye.\",\n",
        "    \"Saya mendukung kandidat P yang berkomitmen untuk transparansi.\",\n",
        "    \"Kita harus menjaga perdamaian selama periode pemilihan ini.\",\n",
        "    \"Isu-isu sosial harus menjadi fokus dalam Pilpres.\",\n",
        "    \"Kandidat Q memiliki dukungan luas dari masyarakat.\",\n",
        "    \"Harus ada keterbukaan dalam pemilihan umum.\",\n",
        "    \"Pemimpin yang mendengarkan suara rakyat sangat penting.\",\n",
        "    \"Kita harus menjaga ketertiban selama proses pemilihan.\",\n",
        "    \"Kandidat R memiliki rencana yang konkrit untuk meningkatkan ekonomi.\",\n",
        "    \"Partisipasi pemilih harus ditingkatkan.\",\n",
        "    \"Pilpres 2024 akan menguji stabilitas politik kita.\",\n",
        "    \"Kampanye berbasis isu-isu sangat penting.\",\n",
        "    \"Kandidat S memiliki rencana untuk mengatasi masalah korupsi.\",\n",
        "    \"Pemimpin yang memiliki wawasan global dibutuhkan.\",\n",
        "    \"Pilpres ini akan menentukan masa depan anak-anak kita.\",\n",
        "    \"Saya berharap kandidat T dapat menciptakan lapangan kerja.\",\n",
        "    \"Debat kandidat harus menghindari perdebatan pribadi.\",\n",
        "    \"Kandidat U perlu lebih transparan tentang sumber dana kampanyenya.\",\n",
        "    \"Kita harus menjaga persatuan dan kesatuan selama Pilpres.\",\n",
        "    \"Pemimpin yang bersatu dan inklusif dibutuhkan.\",\n",
        "    \"Partisipasi pemilih adalah cara untuk menghormati perjuangan demokrasi kita.\",\n",
        "    \"Kita perlu lebih banyak perempuan di politik.\",\n",
        "    \"Kandidat V memiliki visi yang segar untuk kemajuan negara.\",\n",
        "    \"Pemilihan umum adalah saat yang penting untuk mendengarkan semua pandangan.\",\n",
        "    \"Saya merasa khawatir tentang kualitas pendidikan di masa depan.\",\n",
        "    \"Debat kandidat harus mengungkapkan solusi konkret.\",\n",
        "    \"Pemimpin yang berkomitmen pada hak asasi manusia sangat penting.\",\n",
        "    \"Pilpres ini harus mempromosikan budaya perdamaian.\",\n",
        "    \"Kandidat W memiliki rekam jejak yang mencurigakan.\",\n",
        "    \"Pemilihan ini adalah kesempatan untuk perubahan positif.\",\n",
        "    \"Kita perlu mencegah intimidasi pemilih.\",\n",
        "    \"Partisipasi pemilih adalah ekspresi hak demokratis.\",\n",
        "    \"Kita harus melindungi integritas pemilihan.\",\n",
        "    \"Pemimpin yang berfokus pada inovasi dibutuhkan.\",\n",
        "    \"Saya tidak yakin dengan kualifikasi kandidat X.\",\n",
        "    \"Pilpres ini akan menunjukkan kepada dunia siapa kita.\",\n",
        "    \"Kandidat Y perlu lebih banyak eksposur terhadap isu-isu nasional.\",\n",
        "    \"Pemimpin yang jujur ​​diperlukan.\",\n",
        "    \"Debat kandidat harus membahas isu-isu sosial.\",\n",
        "    \"Partisipasi pemilih adalah tonggak demokrasi.\",\n",
        "    \"Pilpres harus bebas dari kecurangan.\",    \"Kandidat Z memiliki rencana kesehatan yang berkualitas.\",\n",
        "    \"Saya prihatin dengan polarisasi di kalangan pemilih.\",\n",
        "    \"Kita perlu lebih banyak perempuan di politik.\",\n",
        "]\n",
        "\n",
        "label = ['positif', 'positif', 'negatif', 'positif', 'negatif', 'positif', 'negatif', 'negatif', 'positif', 'positif',\n",
        "         'negatif', 'positif', 'positif', 'negatif', 'positif', 'negatif', 'positif', 'positif', 'positif', 'positif',\n",
        "         'negatif', 'positif', 'negatif', 'positif', 'positif', 'positif', 'positif', 'positif', 'positif', 'positif',\n",
        "         'positif', 'negatif', 'positif', 'positif', 'positif', 'positif', 'negatif', 'positif', 'positif', 'positif',\n",
        "         'positif', 'positif', 'negatif', 'positif', 'positif', 'positif', 'negatif', 'negatif', 'positif', 'positif',\n",
        "         'positif', 'positif', 'negatif', 'positif', 'positif', 'positif', 'positif', 'positif', 'negatif', 'negatif',\n",
        "         'positif', 'positif', 'positif', 'negatif', 'positif', 'positif', 'positif', 'positif', 'negatif', 'positif',\n",
        "         'negatif', 'positif', 'positif']"
      ],
      "metadata": {
        "id": "fTxHayuPTLDC"
      },
      "execution_count": null,
      "outputs": []
    },
    {
      "cell_type": "code",
      "source": [
        "# Membuat data frame\n",
        "df = pd.DataFrame({'Kalimat': kalimat, 'Label': label})"
      ],
      "metadata": {
        "id": "reLS4FB0uHXa"
      },
      "execution_count": null,
      "outputs": []
    },
    {
      "cell_type": "code",
      "source": [
        "# Memisahkan kalimat dan label\n",
        "kalimat = df['Kalimat']\n",
        "label = df['Label']"
      ],
      "metadata": {
        "id": "4Q4YNCI9t9zS"
      },
      "execution_count": null,
      "outputs": []
    },
    {
      "cell_type": "code",
      "source": [
        "df"
      ],
      "metadata": {
        "colab": {
          "base_uri": "https://localhost:8080/",
          "height": 423
        },
        "id": "m8AOIG5tWD7y",
        "outputId": "782a60a8-9166-46d2-9c68-01ae6fa37d5e"
      },
      "execution_count": null,
      "outputs": [
        {
          "output_type": "execute_result",
          "data": {
            "text/plain": [
              "                                              Kalimat    Label\n",
              "0   Kandidat A memiliki visi yang kuat untuk masa ...  positif\n",
              "1   Debat kandidat Pilpres 2024 sangat membangun d...  positif\n",
              "2   Saya tidak yakin dengan rencana ekonomi kandid...  negatif\n",
              "3   Pemimpin yang bijak diperlukan dalam Pilpres 2...  positif\n",
              "4   Pemilihan ini akan menentukan arah negara sela...  negatif\n",
              "..                                                ...      ...\n",
              "68      Partisipasi pemilih adalah tonggak demokrasi.  negatif\n",
              "69               Pilpres harus bebas dari kecurangan.  positif\n",
              "70  Kandidat Z memiliki rencana kesehatan yang ber...  negatif\n",
              "71  Saya prihatin dengan polarisasi di kalangan pe...  positif\n",
              "72      Kita perlu lebih banyak perempuan di politik.  positif\n",
              "\n",
              "[73 rows x 2 columns]"
            ],
            "text/html": [
              "\n",
              "  <div id=\"df-d0fd5443-6394-431e-8ae9-bf1092a74d7f\" class=\"colab-df-container\">\n",
              "    <div>\n",
              "<style scoped>\n",
              "    .dataframe tbody tr th:only-of-type {\n",
              "        vertical-align: middle;\n",
              "    }\n",
              "\n",
              "    .dataframe tbody tr th {\n",
              "        vertical-align: top;\n",
              "    }\n",
              "\n",
              "    .dataframe thead th {\n",
              "        text-align: right;\n",
              "    }\n",
              "</style>\n",
              "<table border=\"1\" class=\"dataframe\">\n",
              "  <thead>\n",
              "    <tr style=\"text-align: right;\">\n",
              "      <th></th>\n",
              "      <th>Kalimat</th>\n",
              "      <th>Label</th>\n",
              "    </tr>\n",
              "  </thead>\n",
              "  <tbody>\n",
              "    <tr>\n",
              "      <th>0</th>\n",
              "      <td>Kandidat A memiliki visi yang kuat untuk masa ...</td>\n",
              "      <td>positif</td>\n",
              "    </tr>\n",
              "    <tr>\n",
              "      <th>1</th>\n",
              "      <td>Debat kandidat Pilpres 2024 sangat membangun d...</td>\n",
              "      <td>positif</td>\n",
              "    </tr>\n",
              "    <tr>\n",
              "      <th>2</th>\n",
              "      <td>Saya tidak yakin dengan rencana ekonomi kandid...</td>\n",
              "      <td>negatif</td>\n",
              "    </tr>\n",
              "    <tr>\n",
              "      <th>3</th>\n",
              "      <td>Pemimpin yang bijak diperlukan dalam Pilpres 2...</td>\n",
              "      <td>positif</td>\n",
              "    </tr>\n",
              "    <tr>\n",
              "      <th>4</th>\n",
              "      <td>Pemilihan ini akan menentukan arah negara sela...</td>\n",
              "      <td>negatif</td>\n",
              "    </tr>\n",
              "    <tr>\n",
              "      <th>...</th>\n",
              "      <td>...</td>\n",
              "      <td>...</td>\n",
              "    </tr>\n",
              "    <tr>\n",
              "      <th>68</th>\n",
              "      <td>Partisipasi pemilih adalah tonggak demokrasi.</td>\n",
              "      <td>negatif</td>\n",
              "    </tr>\n",
              "    <tr>\n",
              "      <th>69</th>\n",
              "      <td>Pilpres harus bebas dari kecurangan.</td>\n",
              "      <td>positif</td>\n",
              "    </tr>\n",
              "    <tr>\n",
              "      <th>70</th>\n",
              "      <td>Kandidat Z memiliki rencana kesehatan yang ber...</td>\n",
              "      <td>negatif</td>\n",
              "    </tr>\n",
              "    <tr>\n",
              "      <th>71</th>\n",
              "      <td>Saya prihatin dengan polarisasi di kalangan pe...</td>\n",
              "      <td>positif</td>\n",
              "    </tr>\n",
              "    <tr>\n",
              "      <th>72</th>\n",
              "      <td>Kita perlu lebih banyak perempuan di politik.</td>\n",
              "      <td>positif</td>\n",
              "    </tr>\n",
              "  </tbody>\n",
              "</table>\n",
              "<p>73 rows × 2 columns</p>\n",
              "</div>\n",
              "    <div class=\"colab-df-buttons\">\n",
              "\n",
              "  <div class=\"colab-df-container\">\n",
              "    <button class=\"colab-df-convert\" onclick=\"convertToInteractive('df-d0fd5443-6394-431e-8ae9-bf1092a74d7f')\"\n",
              "            title=\"Convert this dataframe to an interactive table.\"\n",
              "            style=\"display:none;\">\n",
              "\n",
              "  <svg xmlns=\"http://www.w3.org/2000/svg\" height=\"24px\" viewBox=\"0 -960 960 960\">\n",
              "    <path d=\"M120-120v-720h720v720H120Zm60-500h600v-160H180v160Zm220 220h160v-160H400v160Zm0 220h160v-160H400v160ZM180-400h160v-160H180v160Zm440 0h160v-160H620v160ZM180-180h160v-160H180v160Zm440 0h160v-160H620v160Z\"/>\n",
              "  </svg>\n",
              "    </button>\n",
              "\n",
              "  <style>\n",
              "    .colab-df-container {\n",
              "      display:flex;\n",
              "      gap: 12px;\n",
              "    }\n",
              "\n",
              "    .colab-df-convert {\n",
              "      background-color: #E8F0FE;\n",
              "      border: none;\n",
              "      border-radius: 50%;\n",
              "      cursor: pointer;\n",
              "      display: none;\n",
              "      fill: #1967D2;\n",
              "      height: 32px;\n",
              "      padding: 0 0 0 0;\n",
              "      width: 32px;\n",
              "    }\n",
              "\n",
              "    .colab-df-convert:hover {\n",
              "      background-color: #E2EBFA;\n",
              "      box-shadow: 0px 1px 2px rgba(60, 64, 67, 0.3), 0px 1px 3px 1px rgba(60, 64, 67, 0.15);\n",
              "      fill: #174EA6;\n",
              "    }\n",
              "\n",
              "    .colab-df-buttons div {\n",
              "      margin-bottom: 4px;\n",
              "    }\n",
              "\n",
              "    [theme=dark] .colab-df-convert {\n",
              "      background-color: #3B4455;\n",
              "      fill: #D2E3FC;\n",
              "    }\n",
              "\n",
              "    [theme=dark] .colab-df-convert:hover {\n",
              "      background-color: #434B5C;\n",
              "      box-shadow: 0px 1px 3px 1px rgba(0, 0, 0, 0.15);\n",
              "      filter: drop-shadow(0px 1px 2px rgba(0, 0, 0, 0.3));\n",
              "      fill: #FFFFFF;\n",
              "    }\n",
              "  </style>\n",
              "\n",
              "    <script>\n",
              "      const buttonEl =\n",
              "        document.querySelector('#df-d0fd5443-6394-431e-8ae9-bf1092a74d7f button.colab-df-convert');\n",
              "      buttonEl.style.display =\n",
              "        google.colab.kernel.accessAllowed ? 'block' : 'none';\n",
              "\n",
              "      async function convertToInteractive(key) {\n",
              "        const element = document.querySelector('#df-d0fd5443-6394-431e-8ae9-bf1092a74d7f');\n",
              "        const dataTable =\n",
              "          await google.colab.kernel.invokeFunction('convertToInteractive',\n",
              "                                                    [key], {});\n",
              "        if (!dataTable) return;\n",
              "\n",
              "        const docLinkHtml = 'Like what you see? Visit the ' +\n",
              "          '<a target=\"_blank\" href=https://colab.research.google.com/notebooks/data_table.ipynb>data table notebook</a>'\n",
              "          + ' to learn more about interactive tables.';\n",
              "        element.innerHTML = '';\n",
              "        dataTable['output_type'] = 'display_data';\n",
              "        await google.colab.output.renderOutput(dataTable, element);\n",
              "        const docLink = document.createElement('div');\n",
              "        docLink.innerHTML = docLinkHtml;\n",
              "        element.appendChild(docLink);\n",
              "      }\n",
              "    </script>\n",
              "  </div>\n",
              "\n",
              "\n",
              "<div id=\"df-07a1f2d7-cd87-4701-8160-ab86f8950993\">\n",
              "  <button class=\"colab-df-quickchart\" onclick=\"quickchart('df-07a1f2d7-cd87-4701-8160-ab86f8950993')\"\n",
              "            title=\"Suggest charts.\"\n",
              "            style=\"display:none;\">\n",
              "\n",
              "<svg xmlns=\"http://www.w3.org/2000/svg\" height=\"24px\"viewBox=\"0 0 24 24\"\n",
              "     width=\"24px\">\n",
              "    <g>\n",
              "        <path d=\"M19 3H5c-1.1 0-2 .9-2 2v14c0 1.1.9 2 2 2h14c1.1 0 2-.9 2-2V5c0-1.1-.9-2-2-2zM9 17H7v-7h2v7zm4 0h-2V7h2v10zm4 0h-2v-4h2v4z\"/>\n",
              "    </g>\n",
              "</svg>\n",
              "  </button>\n",
              "\n",
              "<style>\n",
              "  .colab-df-quickchart {\n",
              "      --bg-color: #E8F0FE;\n",
              "      --fill-color: #1967D2;\n",
              "      --hover-bg-color: #E2EBFA;\n",
              "      --hover-fill-color: #174EA6;\n",
              "      --disabled-fill-color: #AAA;\n",
              "      --disabled-bg-color: #DDD;\n",
              "  }\n",
              "\n",
              "  [theme=dark] .colab-df-quickchart {\n",
              "      --bg-color: #3B4455;\n",
              "      --fill-color: #D2E3FC;\n",
              "      --hover-bg-color: #434B5C;\n",
              "      --hover-fill-color: #FFFFFF;\n",
              "      --disabled-bg-color: #3B4455;\n",
              "      --disabled-fill-color: #666;\n",
              "  }\n",
              "\n",
              "  .colab-df-quickchart {\n",
              "    background-color: var(--bg-color);\n",
              "    border: none;\n",
              "    border-radius: 50%;\n",
              "    cursor: pointer;\n",
              "    display: none;\n",
              "    fill: var(--fill-color);\n",
              "    height: 32px;\n",
              "    padding: 0;\n",
              "    width: 32px;\n",
              "  }\n",
              "\n",
              "  .colab-df-quickchart:hover {\n",
              "    background-color: var(--hover-bg-color);\n",
              "    box-shadow: 0 1px 2px rgba(60, 64, 67, 0.3), 0 1px 3px 1px rgba(60, 64, 67, 0.15);\n",
              "    fill: var(--button-hover-fill-color);\n",
              "  }\n",
              "\n",
              "  .colab-df-quickchart-complete:disabled,\n",
              "  .colab-df-quickchart-complete:disabled:hover {\n",
              "    background-color: var(--disabled-bg-color);\n",
              "    fill: var(--disabled-fill-color);\n",
              "    box-shadow: none;\n",
              "  }\n",
              "\n",
              "  .colab-df-spinner {\n",
              "    border: 2px solid var(--fill-color);\n",
              "    border-color: transparent;\n",
              "    border-bottom-color: var(--fill-color);\n",
              "    animation:\n",
              "      spin 1s steps(1) infinite;\n",
              "  }\n",
              "\n",
              "  @keyframes spin {\n",
              "    0% {\n",
              "      border-color: transparent;\n",
              "      border-bottom-color: var(--fill-color);\n",
              "      border-left-color: var(--fill-color);\n",
              "    }\n",
              "    20% {\n",
              "      border-color: transparent;\n",
              "      border-left-color: var(--fill-color);\n",
              "      border-top-color: var(--fill-color);\n",
              "    }\n",
              "    30% {\n",
              "      border-color: transparent;\n",
              "      border-left-color: var(--fill-color);\n",
              "      border-top-color: var(--fill-color);\n",
              "      border-right-color: var(--fill-color);\n",
              "    }\n",
              "    40% {\n",
              "      border-color: transparent;\n",
              "      border-right-color: var(--fill-color);\n",
              "      border-top-color: var(--fill-color);\n",
              "    }\n",
              "    60% {\n",
              "      border-color: transparent;\n",
              "      border-right-color: var(--fill-color);\n",
              "    }\n",
              "    80% {\n",
              "      border-color: transparent;\n",
              "      border-right-color: var(--fill-color);\n",
              "      border-bottom-color: var(--fill-color);\n",
              "    }\n",
              "    90% {\n",
              "      border-color: transparent;\n",
              "      border-bottom-color: var(--fill-color);\n",
              "    }\n",
              "  }\n",
              "</style>\n",
              "\n",
              "  <script>\n",
              "    async function quickchart(key) {\n",
              "      const quickchartButtonEl =\n",
              "        document.querySelector('#' + key + ' button');\n",
              "      quickchartButtonEl.disabled = true;  // To prevent multiple clicks.\n",
              "      quickchartButtonEl.classList.add('colab-df-spinner');\n",
              "      try {\n",
              "        const charts = await google.colab.kernel.invokeFunction(\n",
              "            'suggestCharts', [key], {});\n",
              "      } catch (error) {\n",
              "        console.error('Error during call to suggestCharts:', error);\n",
              "      }\n",
              "      quickchartButtonEl.classList.remove('colab-df-spinner');\n",
              "      quickchartButtonEl.classList.add('colab-df-quickchart-complete');\n",
              "    }\n",
              "    (() => {\n",
              "      let quickchartButtonEl =\n",
              "        document.querySelector('#df-07a1f2d7-cd87-4701-8160-ab86f8950993 button');\n",
              "      quickchartButtonEl.style.display =\n",
              "        google.colab.kernel.accessAllowed ? 'block' : 'none';\n",
              "    })();\n",
              "  </script>\n",
              "</div>\n",
              "    </div>\n",
              "  </div>\n"
            ]
          },
          "metadata": {},
          "execution_count": 19
        }
      ]
    },
    {
      "cell_type": "code",
      "source": [
        "# Ekstraksi fitur sintaktik dengan TF-IDF\n",
        "tfidf_vectorizer = TfidfVectorizer()\n",
        "X_sintactic = tfidf_vectorizer.fit_transform(kalimat)"
      ],
      "metadata": {
        "id": "I2T6A65atkZN"
      },
      "execution_count": null,
      "outputs": []
    },
    {
      "cell_type": "code",
      "source": [
        "\n",
        "# Inisialisasi model LSA (Latent Semantic Analysis)\n",
        "n_components = 100  # Jumlah komponen semantik yang ingin diekstraksi\n",
        "lsa_model = TruncatedSVD(n_components=n_components)\n",
        "X_semantic = lsa_model.fit_transform(X_sintactic)"
      ],
      "metadata": {
        "id": "wuoiLt-n2Au9"
      },
      "execution_count": null,
      "outputs": []
    },
    {
      "cell_type": "code",
      "source": [
        "# Gabungkan fitur sintaktik dan semantik\n",
        "X = np.hstack((X_sintactic.toarray(), X_semantic))\n",
        "y = label"
      ],
      "metadata": {
        "id": "cjpgMsC52UUi"
      },
      "execution_count": null,
      "outputs": []
    },
    {
      "cell_type": "code",
      "source": [
        "# Pisahkan data menjadi data latih dan data uji\n",
        "X_train, X_test, y_train, y_test = train_test_split(X_sintactic, label, test_size=0.2, random_state=42)\n"
      ],
      "metadata": {
        "id": "JpMJzXCJW8Gs"
      },
      "execution_count": null,
      "outputs": []
    },
    {
      "cell_type": "code",
      "source": [
        "# Inisialisasi model klasifikasi Naive Bayes\n",
        "naive_bayes_model = MultinomialNB()"
      ],
      "metadata": {
        "id": "Bv3vloTs0t4q"
      },
      "execution_count": null,
      "outputs": []
    },
    {
      "cell_type": "code",
      "source": [
        "# Latih model\n",
        "naive_bayes_model.fit(X_train, y_train)\n",
        "knn_model.fit(X_train, y_train)"
      ],
      "metadata": {
        "colab": {
          "base_uri": "https://localhost:8080/",
          "height": 74
        },
        "id": "yxbXmF0z0v6U",
        "outputId": "cf4fcc5f-5777-49fa-dee4-d8e4e44ad3cd"
      },
      "execution_count": null,
      "outputs": [
        {
          "output_type": "execute_result",
          "data": {
            "text/plain": [
              "MultinomialNB()"
            ],
            "text/html": [
              "<style>#sk-container-id-2 {color: black;background-color: white;}#sk-container-id-2 pre{padding: 0;}#sk-container-id-2 div.sk-toggleable {background-color: white;}#sk-container-id-2 label.sk-toggleable__label {cursor: pointer;display: block;width: 100%;margin-bottom: 0;padding: 0.3em;box-sizing: border-box;text-align: center;}#sk-container-id-2 label.sk-toggleable__label-arrow:before {content: \"▸\";float: left;margin-right: 0.25em;color: #696969;}#sk-container-id-2 label.sk-toggleable__label-arrow:hover:before {color: black;}#sk-container-id-2 div.sk-estimator:hover label.sk-toggleable__label-arrow:before {color: black;}#sk-container-id-2 div.sk-toggleable__content {max-height: 0;max-width: 0;overflow: hidden;text-align: left;background-color: #f0f8ff;}#sk-container-id-2 div.sk-toggleable__content pre {margin: 0.2em;color: black;border-radius: 0.25em;background-color: #f0f8ff;}#sk-container-id-2 input.sk-toggleable__control:checked~div.sk-toggleable__content {max-height: 200px;max-width: 100%;overflow: auto;}#sk-container-id-2 input.sk-toggleable__control:checked~label.sk-toggleable__label-arrow:before {content: \"▾\";}#sk-container-id-2 div.sk-estimator input.sk-toggleable__control:checked~label.sk-toggleable__label {background-color: #d4ebff;}#sk-container-id-2 div.sk-label input.sk-toggleable__control:checked~label.sk-toggleable__label {background-color: #d4ebff;}#sk-container-id-2 input.sk-hidden--visually {border: 0;clip: rect(1px 1px 1px 1px);clip: rect(1px, 1px, 1px, 1px);height: 1px;margin: -1px;overflow: hidden;padding: 0;position: absolute;width: 1px;}#sk-container-id-2 div.sk-estimator {font-family: monospace;background-color: #f0f8ff;border: 1px dotted black;border-radius: 0.25em;box-sizing: border-box;margin-bottom: 0.5em;}#sk-container-id-2 div.sk-estimator:hover {background-color: #d4ebff;}#sk-container-id-2 div.sk-parallel-item::after {content: \"\";width: 100%;border-bottom: 1px solid gray;flex-grow: 1;}#sk-container-id-2 div.sk-label:hover label.sk-toggleable__label {background-color: #d4ebff;}#sk-container-id-2 div.sk-serial::before {content: \"\";position: absolute;border-left: 1px solid gray;box-sizing: border-box;top: 0;bottom: 0;left: 50%;z-index: 0;}#sk-container-id-2 div.sk-serial {display: flex;flex-direction: column;align-items: center;background-color: white;padding-right: 0.2em;padding-left: 0.2em;position: relative;}#sk-container-id-2 div.sk-item {position: relative;z-index: 1;}#sk-container-id-2 div.sk-parallel {display: flex;align-items: stretch;justify-content: center;background-color: white;position: relative;}#sk-container-id-2 div.sk-item::before, #sk-container-id-2 div.sk-parallel-item::before {content: \"\";position: absolute;border-left: 1px solid gray;box-sizing: border-box;top: 0;bottom: 0;left: 50%;z-index: -1;}#sk-container-id-2 div.sk-parallel-item {display: flex;flex-direction: column;z-index: 1;position: relative;background-color: white;}#sk-container-id-2 div.sk-parallel-item:first-child::after {align-self: flex-end;width: 50%;}#sk-container-id-2 div.sk-parallel-item:last-child::after {align-self: flex-start;width: 50%;}#sk-container-id-2 div.sk-parallel-item:only-child::after {width: 0;}#sk-container-id-2 div.sk-dashed-wrapped {border: 1px dashed gray;margin: 0 0.4em 0.5em 0.4em;box-sizing: border-box;padding-bottom: 0.4em;background-color: white;}#sk-container-id-2 div.sk-label label {font-family: monospace;font-weight: bold;display: inline-block;line-height: 1.2em;}#sk-container-id-2 div.sk-label-container {text-align: center;}#sk-container-id-2 div.sk-container {/* jupyter's `normalize.less` sets `[hidden] { display: none; }` but bootstrap.min.css set `[hidden] { display: none !important; }` so we also need the `!important` here to be able to override the default hidden behavior on the sphinx rendered scikit-learn.org. See: https://github.com/scikit-learn/scikit-learn/issues/21755 */display: inline-block !important;position: relative;}#sk-container-id-2 div.sk-text-repr-fallback {display: none;}</style><div id=\"sk-container-id-2\" class=\"sk-top-container\"><div class=\"sk-text-repr-fallback\"><pre>MultinomialNB()</pre><b>In a Jupyter environment, please rerun this cell to show the HTML representation or trust the notebook. <br />On GitHub, the HTML representation is unable to render, please try loading this page with nbviewer.org.</b></div><div class=\"sk-container\" hidden><div class=\"sk-item\"><div class=\"sk-estimator sk-toggleable\"><input class=\"sk-toggleable__control sk-hidden--visually\" id=\"sk-estimator-id-2\" type=\"checkbox\" checked><label for=\"sk-estimator-id-2\" class=\"sk-toggleable__label sk-toggleable__label-arrow\">MultinomialNB</label><div class=\"sk-toggleable__content\"><pre>MultinomialNB()</pre></div></div></div></div></div>"
            ]
          },
          "metadata": {},
          "execution_count": 25
        }
      ]
    },
    {
      "cell_type": "code",
      "source": [
        "# Lakukan prediksi pada data uji\n",
        "y_pred = naive_bayes_model.predict(X_test)"
      ],
      "metadata": {
        "id": "yFS_JEm10yKl"
      },
      "execution_count": null,
      "outputs": []
    },
    {
      "cell_type": "code",
      "source": [
        "# Evaluasi model\n",
        "accuracy = accuracy_score(y_test, y_pred)\n",
        "report = classification_report(y_test, y_pred)"
      ],
      "metadata": {
        "colab": {
          "base_uri": "https://localhost:8080/"
        },
        "id": "uslfcP0k00ZR",
        "outputId": "d74a5ce4-0ed2-4e15-c890-db495b2c8715"
      },
      "execution_count": null,
      "outputs": [
        {
          "output_type": "stream",
          "name": "stderr",
          "text": [
            "/usr/local/lib/python3.10/dist-packages/sklearn/metrics/_classification.py:1344: UndefinedMetricWarning: Precision and F-score are ill-defined and being set to 0.0 in labels with no predicted samples. Use `zero_division` parameter to control this behavior.\n",
            "  _warn_prf(average, modifier, msg_start, len(result))\n",
            "/usr/local/lib/python3.10/dist-packages/sklearn/metrics/_classification.py:1344: UndefinedMetricWarning: Precision and F-score are ill-defined and being set to 0.0 in labels with no predicted samples. Use `zero_division` parameter to control this behavior.\n",
            "  _warn_prf(average, modifier, msg_start, len(result))\n",
            "/usr/local/lib/python3.10/dist-packages/sklearn/metrics/_classification.py:1344: UndefinedMetricWarning: Precision and F-score are ill-defined and being set to 0.0 in labels with no predicted samples. Use `zero_division` parameter to control this behavior.\n",
            "  _warn_prf(average, modifier, msg_start, len(result))\n"
          ]
        }
      ]
    },
    {
      "cell_type": "code",
      "source": [
        "# Tampilkan hasil evaluasi\n",
        "print(\"Akurasi: {:.2f}%\".format(accuracy * 100))\n",
        "print(report)"
      ],
      "metadata": {
        "colab": {
          "base_uri": "https://localhost:8080/"
        },
        "id": "S94D-pDj04Iw",
        "outputId": "b0f343c8-2972-498f-eff4-fc1bf91785ac"
      },
      "execution_count": null,
      "outputs": [
        {
          "output_type": "stream",
          "name": "stdout",
          "text": [
            "Akurasi: 73.33%\n",
            "              precision    recall  f1-score   support\n",
            "\n",
            "     negatif       0.00      0.00      0.00         4\n",
            "     positif       0.73      1.00      0.85        11\n",
            "\n",
            "    accuracy                           0.73        15\n",
            "   macro avg       0.37      0.50      0.42        15\n",
            "weighted avg       0.54      0.73      0.62        15\n",
            "\n"
          ]
        }
      ]
    },
    {
      "cell_type": "code",
      "source": [
        "# Model K-Nearest Neighbors (KNN)\n",
        "knn_model = KNeighborsClassifier()\n",
        "knn_model.fit(X_train, y_train)\n",
        "\n",
        "# Model Naive Bayes (NB)\n",
        "nb_model = MultinomialNB()\n",
        "nb_model.fit(X_train, y_train)\n",
        "\n",
        "# Model Support Vector Machine (SVM)\n",
        "svm_model = SVC(kernel='linear')\n",
        "svm_model.fit(X_train, y_train)\n",
        "\n",
        "# Model Random Forest\n",
        "rf_model = RandomForestClassifier()\n",
        "rf_model.fit(X_train, y_train)"
      ],
      "metadata": {
        "colab": {
          "base_uri": "https://localhost:8080/",
          "height": 74
        },
        "id": "S9xRssrDXMOr",
        "outputId": "bfdb64a0-2a9d-4868-b5c4-e0cab5233e3f"
      },
      "execution_count": null,
      "outputs": [
        {
          "output_type": "execute_result",
          "data": {
            "text/plain": [
              "RandomForestClassifier()"
            ],
            "text/html": [
              "<style>#sk-container-id-3 {color: black;background-color: white;}#sk-container-id-3 pre{padding: 0;}#sk-container-id-3 div.sk-toggleable {background-color: white;}#sk-container-id-3 label.sk-toggleable__label {cursor: pointer;display: block;width: 100%;margin-bottom: 0;padding: 0.3em;box-sizing: border-box;text-align: center;}#sk-container-id-3 label.sk-toggleable__label-arrow:before {content: \"▸\";float: left;margin-right: 0.25em;color: #696969;}#sk-container-id-3 label.sk-toggleable__label-arrow:hover:before {color: black;}#sk-container-id-3 div.sk-estimator:hover label.sk-toggleable__label-arrow:before {color: black;}#sk-container-id-3 div.sk-toggleable__content {max-height: 0;max-width: 0;overflow: hidden;text-align: left;background-color: #f0f8ff;}#sk-container-id-3 div.sk-toggleable__content pre {margin: 0.2em;color: black;border-radius: 0.25em;background-color: #f0f8ff;}#sk-container-id-3 input.sk-toggleable__control:checked~div.sk-toggleable__content {max-height: 200px;max-width: 100%;overflow: auto;}#sk-container-id-3 input.sk-toggleable__control:checked~label.sk-toggleable__label-arrow:before {content: \"▾\";}#sk-container-id-3 div.sk-estimator input.sk-toggleable__control:checked~label.sk-toggleable__label {background-color: #d4ebff;}#sk-container-id-3 div.sk-label input.sk-toggleable__control:checked~label.sk-toggleable__label {background-color: #d4ebff;}#sk-container-id-3 input.sk-hidden--visually {border: 0;clip: rect(1px 1px 1px 1px);clip: rect(1px, 1px, 1px, 1px);height: 1px;margin: -1px;overflow: hidden;padding: 0;position: absolute;width: 1px;}#sk-container-id-3 div.sk-estimator {font-family: monospace;background-color: #f0f8ff;border: 1px dotted black;border-radius: 0.25em;box-sizing: border-box;margin-bottom: 0.5em;}#sk-container-id-3 div.sk-estimator:hover {background-color: #d4ebff;}#sk-container-id-3 div.sk-parallel-item::after {content: \"\";width: 100%;border-bottom: 1px solid gray;flex-grow: 1;}#sk-container-id-3 div.sk-label:hover label.sk-toggleable__label {background-color: #d4ebff;}#sk-container-id-3 div.sk-serial::before {content: \"\";position: absolute;border-left: 1px solid gray;box-sizing: border-box;top: 0;bottom: 0;left: 50%;z-index: 0;}#sk-container-id-3 div.sk-serial {display: flex;flex-direction: column;align-items: center;background-color: white;padding-right: 0.2em;padding-left: 0.2em;position: relative;}#sk-container-id-3 div.sk-item {position: relative;z-index: 1;}#sk-container-id-3 div.sk-parallel {display: flex;align-items: stretch;justify-content: center;background-color: white;position: relative;}#sk-container-id-3 div.sk-item::before, #sk-container-id-3 div.sk-parallel-item::before {content: \"\";position: absolute;border-left: 1px solid gray;box-sizing: border-box;top: 0;bottom: 0;left: 50%;z-index: -1;}#sk-container-id-3 div.sk-parallel-item {display: flex;flex-direction: column;z-index: 1;position: relative;background-color: white;}#sk-container-id-3 div.sk-parallel-item:first-child::after {align-self: flex-end;width: 50%;}#sk-container-id-3 div.sk-parallel-item:last-child::after {align-self: flex-start;width: 50%;}#sk-container-id-3 div.sk-parallel-item:only-child::after {width: 0;}#sk-container-id-3 div.sk-dashed-wrapped {border: 1px dashed gray;margin: 0 0.4em 0.5em 0.4em;box-sizing: border-box;padding-bottom: 0.4em;background-color: white;}#sk-container-id-3 div.sk-label label {font-family: monospace;font-weight: bold;display: inline-block;line-height: 1.2em;}#sk-container-id-3 div.sk-label-container {text-align: center;}#sk-container-id-3 div.sk-container {/* jupyter's `normalize.less` sets `[hidden] { display: none; }` but bootstrap.min.css set `[hidden] { display: none !important; }` so we also need the `!important` here to be able to override the default hidden behavior on the sphinx rendered scikit-learn.org. See: https://github.com/scikit-learn/scikit-learn/issues/21755 */display: inline-block !important;position: relative;}#sk-container-id-3 div.sk-text-repr-fallback {display: none;}</style><div id=\"sk-container-id-3\" class=\"sk-top-container\"><div class=\"sk-text-repr-fallback\"><pre>RandomForestClassifier()</pre><b>In a Jupyter environment, please rerun this cell to show the HTML representation or trust the notebook. <br />On GitHub, the HTML representation is unable to render, please try loading this page with nbviewer.org.</b></div><div class=\"sk-container\" hidden><div class=\"sk-item\"><div class=\"sk-estimator sk-toggleable\"><input class=\"sk-toggleable__control sk-hidden--visually\" id=\"sk-estimator-id-3\" type=\"checkbox\" checked><label for=\"sk-estimator-id-3\" class=\"sk-toggleable__label sk-toggleable__label-arrow\">RandomForestClassifier</label><div class=\"sk-toggleable__content\"><pre>RandomForestClassifier()</pre></div></div></div></div></div>"
            ]
          },
          "metadata": {},
          "execution_count": 30
        }
      ]
    },
    {
      "cell_type": "code",
      "source": [
        "# Evaluasi model KNN\n",
        "knn_predictions = knn_model.predict(X_test)\n",
        "knn_accuracy = accuracy_score(y_test, knn_predictions)\n",
        "knn_report = classification_report(y_test, knn_predictions)\n",
        "\n",
        "# Evaluasi model Naive Bayes\n",
        "nb_predictions = nb_model.predict(X_test)\n",
        "nb_accuracy = accuracy_score(y_test, nb_predictions)\n",
        "nb_report = classification_report(y_test, nb_predictions)\n",
        "\n",
        "# Evaluasi model SVM\n",
        "svm_predictions = svm_model.predict(X_test)\n",
        "svm_accuracy = accuracy_score(y_test, svm_predictions)\n",
        "svm_report = classification_report(y_test, svm_predictions)\n",
        "\n",
        "# Evaluasi model Random Forest\n",
        "rf_predictions = rf_model.predict(X_test)\n",
        "rf_accuracy = accuracy_score(y_test, rf_predictions)\n",
        "rf_report = classification_report(y_test, rf_predictions)"
      ],
      "metadata": {
        "colab": {
          "base_uri": "https://localhost:8080/"
        },
        "id": "qWWzPyjMYb9m",
        "outputId": "9fe3c873-1f26-4212-b862-1c2a695fe818"
      },
      "execution_count": null,
      "outputs": [
        {
          "output_type": "stream",
          "name": "stderr",
          "text": [
            "/usr/local/lib/python3.10/dist-packages/sklearn/metrics/_classification.py:1344: UndefinedMetricWarning: Precision and F-score are ill-defined and being set to 0.0 in labels with no predicted samples. Use `zero_division` parameter to control this behavior.\n",
            "  _warn_prf(average, modifier, msg_start, len(result))\n",
            "/usr/local/lib/python3.10/dist-packages/sklearn/metrics/_classification.py:1344: UndefinedMetricWarning: Precision and F-score are ill-defined and being set to 0.0 in labels with no predicted samples. Use `zero_division` parameter to control this behavior.\n",
            "  _warn_prf(average, modifier, msg_start, len(result))\n",
            "/usr/local/lib/python3.10/dist-packages/sklearn/metrics/_classification.py:1344: UndefinedMetricWarning: Precision and F-score are ill-defined and being set to 0.0 in labels with no predicted samples. Use `zero_division` parameter to control this behavior.\n",
            "  _warn_prf(average, modifier, msg_start, len(result))\n"
          ]
        }
      ]
    },
    {
      "cell_type": "code",
      "source": [
        "# Akurasi dari masing-masing model\n",
        "accuracies = [knn_accuracy, nb_accuracy, svm_accuracy, rf_accuracy]\n",
        "\n",
        "# Nama-nama model\n",
        "models = ['KNN', 'Naive Bayes', 'SVM', 'Random Forest']\n",
        "\n",
        "# Membuat bar charty\n",
        "plt.bar(models, accuracies, color=['blue', 'green', 'red', 'purple'])\n",
        "\n",
        "# Menambahkan label pada sumbu-sumbu\n",
        "plt.xlabel('Model')\n",
        "plt.ylabel('Akurasi')\n",
        "\n",
        "# Menampilkan nilai akurasi di atas tiap bar\n",
        "for i, accuracy in enumerate(accuracies):\n",
        "    plt.text(i, accuracy + 0.01, f'{accuracy:.2f}', ha='center')\n",
        "\n",
        "# Menampilkan grafik\n",
        "plt.title('Perbandingan Akurasi Model')\n",
        "plt.show()"
      ],
      "metadata": {
        "colab": {
          "base_uri": "https://localhost:8080/",
          "height": 472
        },
        "id": "GqIQ2YIaYuvb",
        "outputId": "886fbcac-5c42-4718-9fa0-b1e465a1f65d"
      },
      "execution_count": null,
      "outputs": [
        {
          "output_type": "display_data",
          "data": {
            "text/plain": [
              "<Figure size 640x480 with 1 Axes>"
            ],
            "image/png": "[encoded data removed]"
          },
          "metadata": {}
        }
      ]
    },
    {
      "cell_type": "markdown",
      "source": [
        "[ANALISIS]\n",
        "\n",
        "Berdasarkan percobaan diatas percobaan diatas dapat dianalisiskan bahwa\n",
        "Ekstraksi Fitur Semantik (Semantic Feature Extraction) lebih baik, karena :\n",
        "\n",
        "Dalam bagian ini, kita menggunakan model Word2Vec untuk menghasilkan vektor semantik untuk setiap kalimat dalam dataset.\n",
        "Model Word2Vec ini mengambil seluruh dataset kalimat sebagai input dan mempelajari representasi vektor kata-kata yang mencerminkan makna dan hubungan antara kata-kata.\n",
        "Fungsi get_sentence_vector digunakan untuk menghitung vektor representasi setiap kalimat. Ini dilakukan dengan membagi setiap kalimat menjadi kata-kata, dan kemudian mengambil vektor kata-kata dari model Word2Vec. Jika kata tersebut ada dalam model, vektor kata itu diambil.\n",
        "Hasil dari vektor-vektor kata-kata dalam sebuah kalimat dijumlahkan dan diambil rata-ratanya untuk menghasilkan vektor representasi kalimat itu sendiri.\n",
        "Setelah ekstraksi fitur semantik selesai, kita memiliki matriks X_semantic, di mana setiap baris mewakili kalimat dalam dataset, dan setiap kolom mewakili dimensi vektor semantik. Dalam contoh di atas, kita mengatur vector_size=100, sehingga matriks ini memiliki 100 kolom.\n",
        "Ekstraksi Fitur Sintaktik (Syntactic Feature Extraction) menggunakan TF-IDF:\n",
        "\n",
        "Bagian ini menggunakan TfidfVectorizer dari scikit-learn untuk melakukan ekstraksi fitur sintaktik.\n",
        "TfidfVectorizer menghitung TF-IDF (Term Frequency-Inverse Document Frequency) dari setiap kata dalam kalimat.\n",
        "Hasil dari ekstraksi fitur sintaktik ini adalah matriks X_sintactic, di mana setiap baris mewakili kalimat dalam dataset, dan setiap kolom mewakili kata dalam kamus. Nilai di setiap sel matriks adalah skor TF-IDF untuk kata tersebut dalam kalimat tersebut.\n",
        "Setelah kedua jenis ekstraksi fitur selesai, kedua matriks fitur sintaktik dan semantik di-stack secara horizontal untuk membentuk matriks fitur akhir, X. Kemudian, label-label yang sesuai disimpan dalam vektor y.\n",
        "\n",
        "\n",
        "\n",
        "\n",
        "Berdasarkan percobaan diatas percobaan diatas dapat dianalisiskan bahwa algoritma yang memiliki peforma terbaik adalah K-NN, dikarenakan :\n",
        "*Karakteristik Data: Karakteristik data itu sendiri dapat memengaruhi kinerja model. SVM mungkin cocok untuk kasus ini jika data memiliki pemisah linear yang jelas antara kelas positif dan negatif. SVM mencoba untuk menemukan hyperplane yang paling baik memisahkan kedua kelas, yang bisa menjadi pendekatan yang baik dalam kasus tertentu.\n",
        "\n",
        "Pemilihan Fitur: Ekstraksi fitur sintaktik dan semantik dapat memiliki pengaruh besar pada kinerja model. Jika fitur-fitur ini telah dipilih atau diubah dengan baik, SVM bisa lebih unggul dalam mengekstraksi pemisah yang kuat.\n",
        "\n",
        "Penyederhanaan Model: SVM memiliki kemampuan untuk menangani banyak fitur dengan baik. Ini dapat menyederhanakan masalah dengan mengidentifikasi fitur-fitur yang penting untuk pemisahan kelas.\n",
        "\n",
        "Penanganan Outlier: SVM sering kali dapat menangani outlier dengan baik karena upaya mencari margin terbesar. Ini dapat meningkatkan kinerja SVM dalam kasus di mana ada data yang tidak biasa.\n",
        "\n",
        "Optimasi Parameter: Pengaturan parameter yang tepat juga dapat menjadi faktor yang menguntungkan SVM. Dengan pengaturan parameter yang tepat, SVM dapat memberikan kinerja yang sangat baik.*"
      ],
      "metadata": {
        "id": "qnAHF9m9bPCU"
      }
    }
  ]
}